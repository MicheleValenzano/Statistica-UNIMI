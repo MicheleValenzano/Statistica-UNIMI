{
 "cells": [
  {
   "cell_type": "markdown",
   "id": "0c118952",
   "metadata": {},
   "source": [
    "<h1>Esercizio 1</h1>"
   ]
  },
  {
   "cell_type": "markdown",
   "id": "5ab6d690",
   "metadata": {},
   "source": [
    "<h2>Punto 2.1</h2>"
   ]
  },
  {
   "cell_type": "code",
   "execution_count": 4,
   "id": "fa61af3a",
   "metadata": {},
   "outputs": [],
   "source": [
    "# definisco una funzione che restituisce il valore della funzione di massa di probabilità in funzione di k e lambda\n",
    "import math\n",
    "\n",
    "def p_poisson(k, l):\n",
    "    return math.e**(-1 * l) * l**k / math.factorial(k)"
   ]
  },
  {
   "cell_type": "code",
   "execution_count": 18,
   "id": "4373fc6d",
   "metadata": {},
   "outputs": [
    {
     "data": {
      "image/png": "[encoded data removed]",
      "text/plain": [
       "<Figure size 432x288 with 1 Axes>"
      ]
     },
     "metadata": {
      "needs_background": "light"
     },
     "output_type": "display_data"
    }
   ],
   "source": [
    "%matplotlib inline\n",
    "\n",
    "import matplotlib.pyplot as plt\n",
    "import numpy as np\n",
    "\n",
    "l = 5\n",
    "\n",
    "ks = np.arange(0, 15)\n",
    "ps = [p_poisson(k, l) for k in ks]\n",
    "\n",
    "plt.vlines(ks, 0, ps)\n",
    "plt.plot(ks, ps, 'o')\n",
    "plt.show()"
   ]
  },
  {
   "cell_type": "code",
   "execution_count": 29,
   "id": "ddf0ef4a",
   "metadata": {},
   "outputs": [
    {
     "data": {
      "image/png": "[encoded data removed]",
      "text/plain": [
       "<Figure size 432x288 with 1 Axes>"
      ]
     },
     "metadata": {
      "needs_background": "light"
     },
     "output_type": "display_data"
    }
   ],
   "source": [
    "# metodo alternativo utilizzando scipy.stats\n",
    "import scipy.stats as st\n",
    "\n",
    "# creo un oggetto variabile aleatoria di Poisson con parametro l = lambda = 5\n",
    "X = st.poisson(l)\n",
    "y = X.pmf(ks)\n",
    "\n",
    "plt.vlines(ks, 0, y)\n",
    "plt.plot(ks, y, 'o')\n",
    "plt.show()"
   ]
  },
  {
   "cell_type": "markdown",
   "id": "3a4f2816",
   "metadata": {},
   "source": [
    "<h2>Punto 2.2</h2>"
   ]
  },
  {
   "cell_type": "code",
   "execution_count": 33,
   "id": "8168c03d",
   "metadata": {},
   "outputs": [
    {
     "data": {
      "text/plain": [
       "0.23781653702706163"
      ]
     },
     "execution_count": 33,
     "metadata": {},
     "output_type": "execute_result"
    }
   ],
   "source": [
    "# 1 - P(X <= 6)\n",
    "1 - sum([X.pmf(k) for k in np.arange(0,7)])"
   ]
  },
  {
   "cell_type": "code",
   "execution_count": 34,
   "id": "4a389162",
   "metadata": {},
   "outputs": [
    {
     "data": {
      "text/plain": [
       "0.2378165370270613"
      ]
     },
     "execution_count": 34,
     "metadata": {},
     "output_type": "execute_result"
    }
   ],
   "source": [
    "# metodo alternativo utilizzando la funzione di ripartizione\n",
    "1 - X.cdf(6)"
   ]
  },
  {
   "cell_type": "markdown",
   "id": "c4a987ff",
   "metadata": {},
   "source": [
    "<h2>Punto 2.3</h2>"
   ]
  },
  {
   "cell_type": "code",
   "execution_count": 38,
   "id": "76dfe066",
   "metadata": {},
   "outputs": [
    {
     "data": {
      "image/png": "[encoded data removed]",
      "text/plain": [
       "<Figure size 432x288 with 1 Axes>"
      ]
     },
     "metadata": {
      "needs_background": "light"
     },
     "output_type": "display_data"
    }
   ],
   "source": [
    "# la funzione di ripartizione di una variabile aleatoria discreta è costante a tratti, perciò si usa il metodo step\n",
    "plt.step(ks, X.cdf(ks))\n",
    "plt.show()"
   ]
  },
  {
   "cell_type": "code",
   "execution_count": 39,
   "id": "12b95cc0",
   "metadata": {},
   "outputs": [
    {
     "name": "stdout",
     "output_type": "stream",
     "text": [
      "7\n"
     ]
    }
   ],
   "source": [
    "k = 0\n",
    "while X.cdf(k) < 0.8:\n",
    "    k += 1\n",
    "\n",
    "print(k)"
   ]
  },
  {
   "cell_type": "code",
   "execution_count": 43,
   "id": "b83634e1",
   "metadata": {},
   "outputs": [
    {
     "data": {
      "text/plain": [
       "(0.7621834629729387, 0.8666283259299925)"
      ]
     },
     "execution_count": 43,
     "metadata": {},
     "output_type": "execute_result"
    }
   ],
   "source": [
    "X.cdf(6), X.cdf(7)\n",
    "# per cui ho verificato che 7 è la più piccola specificazione che ha come valore\n",
    "# della funzione di ripartizione un valore >= 0.8"
   ]
  },
  {
   "cell_type": "code",
   "execution_count": 44,
   "id": "8f39c0ab",
   "metadata": {},
   "outputs": [
    {
     "data": {
      "text/plain": [
       "7.0"
      ]
     },
     "execution_count": 44,
     "metadata": {},
     "output_type": "execute_result"
    }
   ],
   "source": [
    "# metodo alternativo: utilizzo dei quantili (metodo ppf)\n",
    "X.ppf(0.8)"
   ]
  },
  {
   "cell_type": "markdown",
   "id": "4d4b703b",
   "metadata": {},
   "source": [
    "<h1>Esercizio 2</h1>"
   ]
  },
  {
   "cell_type": "code",
   "execution_count": 59,
   "id": "6ad27cdc",
   "metadata": {},
   "outputs": [
    {
     "data": {
      "text/html": [
       "<div>\n",
       "<style scoped>\n",
       "    .dataframe tbody tr th:only-of-type {\n",
       "        vertical-align: middle;\n",
       "    }\n",
       "\n",
       "    .dataframe tbody tr th {\n",
       "        vertical-align: top;\n",
       "    }\n",
       "\n",
       "    .dataframe thead th {\n",
       "        text-align: right;\n",
       "    }\n",
       "</style>\n",
       "<table border=\"1\" class=\"dataframe\">\n",
       "  <thead>\n",
       "    <tr style=\"text-align: right;\">\n",
       "      <th></th>\n",
       "      <th>NomeSorgente</th>\n",
       "      <th>Oro</th>\n",
       "      <th>DurezzaAcqua</th>\n",
       "    </tr>\n",
       "  </thead>\n",
       "  <tbody>\n",
       "    <tr>\n",
       "      <th>0</th>\n",
       "      <td>Sorgente1</td>\n",
       "      <td>0</td>\n",
       "      <td>21.201381</td>\n",
       "    </tr>\n",
       "    <tr>\n",
       "      <th>1</th>\n",
       "      <td>Sorgente1</td>\n",
       "      <td>0</td>\n",
       "      <td>25.294662</td>\n",
       "    </tr>\n",
       "    <tr>\n",
       "      <th>2</th>\n",
       "      <td>Sorgente1</td>\n",
       "      <td>4</td>\n",
       "      <td>12.435279</td>\n",
       "    </tr>\n",
       "    <tr>\n",
       "      <th>3</th>\n",
       "      <td>Sorgente1</td>\n",
       "      <td>3</td>\n",
       "      <td>16.146828</td>\n",
       "    </tr>\n",
       "    <tr>\n",
       "      <th>4</th>\n",
       "      <td>Sorgente1</td>\n",
       "      <td>0</td>\n",
       "      <td>21.091517</td>\n",
       "    </tr>\n",
       "    <tr>\n",
       "      <th>...</th>\n",
       "      <td>...</td>\n",
       "      <td>...</td>\n",
       "      <td>...</td>\n",
       "    </tr>\n",
       "    <tr>\n",
       "      <th>1645</th>\n",
       "      <td>Sorgente5</td>\n",
       "      <td>4</td>\n",
       "      <td>5.601863</td>\n",
       "    </tr>\n",
       "    <tr>\n",
       "      <th>1646</th>\n",
       "      <td>Sorgente5</td>\n",
       "      <td>4</td>\n",
       "      <td>6.642368</td>\n",
       "    </tr>\n",
       "    <tr>\n",
       "      <th>1647</th>\n",
       "      <td>Sorgente5</td>\n",
       "      <td>6</td>\n",
       "      <td>3.134170</td>\n",
       "    </tr>\n",
       "    <tr>\n",
       "      <th>1648</th>\n",
       "      <td>Sorgente5</td>\n",
       "      <td>2</td>\n",
       "      <td>12.190175</td>\n",
       "    </tr>\n",
       "    <tr>\n",
       "      <th>1649</th>\n",
       "      <td>Sorgente5</td>\n",
       "      <td>5</td>\n",
       "      <td>7.275056</td>\n",
       "    </tr>\n",
       "  </tbody>\n",
       "</table>\n",
       "<p>1650 rows × 3 columns</p>\n",
       "</div>"
      ],
      "text/plain": [
       "     NomeSorgente  Oro  DurezzaAcqua\n",
       "0       Sorgente1    0     21.201381\n",
       "1       Sorgente1    0     25.294662\n",
       "2       Sorgente1    4     12.435279\n",
       "3       Sorgente1    3     16.146828\n",
       "4       Sorgente1    0     21.091517\n",
       "...           ...  ...           ...\n",
       "1645    Sorgente5    4      5.601863\n",
       "1646    Sorgente5    4      6.642368\n",
       "1647    Sorgente5    6      3.134170\n",
       "1648    Sorgente5    2     12.190175\n",
       "1649    Sorgente5    5      7.275056\n",
       "\n",
       "[1650 rows x 3 columns]"
      ]
     },
     "execution_count": 59,
     "metadata": {},
     "output_type": "execute_result"
    }
   ],
   "source": [
    "import pandas as pd\n",
    "\n",
    "acqua = pd.read_csv('ComposizioneAcqua.csv')\n",
    "acqua"
   ]
  },
  {
   "cell_type": "markdown",
   "id": "80e3a5b9",
   "metadata": {},
   "source": [
    "<h2>Punto 1</h2>"
   ]
  },
  {
   "cell_type": "code",
   "execution_count": 48,
   "id": "0e4fdea3",
   "metadata": {},
   "outputs": [
    {
     "data": {
      "text/plain": [
       "1650"
      ]
     },
     "execution_count": 48,
     "metadata": {},
     "output_type": "execute_result"
    }
   ],
   "source": [
    "len(acqua)"
   ]
  },
  {
   "cell_type": "markdown",
   "id": "62b29a6c",
   "metadata": {},
   "source": [
    "<h2>Punto 2</h2>"
   ]
  },
  {
   "cell_type": "code",
   "execution_count": 49,
   "id": "49d2fd1a",
   "metadata": {},
   "outputs": [
    {
     "data": {
      "text/plain": [
       "8250"
      ]
     },
     "execution_count": 49,
     "metadata": {},
     "output_type": "execute_result"
    }
   ],
   "source": [
    "len(acqua) * 5"
   ]
  },
  {
   "cell_type": "markdown",
   "id": "9b4e22a8",
   "metadata": {},
   "source": [
    "<h2>Punto 3</h2>"
   ]
  },
  {
   "cell_type": "code",
   "execution_count": 54,
   "id": "cc54af6b",
   "metadata": {},
   "outputs": [
    {
     "data": {
      "text/plain": [
       "5"
      ]
     },
     "execution_count": 54,
     "metadata": {},
     "output_type": "execute_result"
    }
   ],
   "source": [
    "len(acqua['NomeSorgente'].unique())\n",
    "\n",
    "def num_values(series):\n",
    "    return len(series.unique())\n",
    "\n",
    "num_values(acqua['NomeSorgente'])"
   ]
  },
  {
   "cell_type": "markdown",
   "id": "94659083",
   "metadata": {},
   "source": [
    "<h2>Punto 4</h2>"
   ]
  },
  {
   "cell_type": "code",
   "execution_count": 61,
   "id": "5fca4c53",
   "metadata": {},
   "outputs": [],
   "source": [
    "def gini(series):\n",
    "    return 1 - sum(series.value_counts(normalize=True).map(lambda f: f**2))\n",
    "\n",
    "def normalized_gini(series):\n",
    "    s = num_values(series)\n",
    "    return s * gini(series) / (s - 1)"
   ]
  },
  {
   "cell_type": "code",
   "execution_count": 62,
   "id": "d6166de1",
   "metadata": {},
   "outputs": [
    {
     "data": {
      "text/plain": [
       "0.980257116620753"
      ]
     },
     "execution_count": 62,
     "metadata": {},
     "output_type": "execute_result"
    }
   ],
   "source": [
    "normalized_gini(acqua['NomeSorgente'])"
   ]
  },
  {
   "cell_type": "markdown",
   "id": "0941f1a4",
   "metadata": {},
   "source": [
    "Questo valore è vicino all'unità per cui il livello di eterogeneità è alto.\n",
    "Questo implica un livello <b>alto</b> di uniformità per le sorgenti."
   ]
  },
  {
   "cell_type": "markdown",
   "id": "13373a8b",
   "metadata": {},
   "source": [
    "<h2>Punto 5</h2>"
   ]
  },
  {
   "cell_type": "code",
   "execution_count": 70,
   "id": "043cc648",
   "metadata": {},
   "outputs": [
    {
     "data": {
      "text/plain": [
       "0     0.276364\n",
       "1     0.296364\n",
       "2     0.198788\n",
       "3     0.086667\n",
       "4     0.048485\n",
       "5     0.038182\n",
       "6     0.029091\n",
       "7     0.012121\n",
       "8     0.007273\n",
       "9     0.002424\n",
       "10    0.002424\n",
       "11    0.001818\n",
       "Name: Oro, dtype: float64"
      ]
     },
     "execution_count": 70,
     "metadata": {},
     "output_type": "execute_result"
    }
   ],
   "source": [
    "gold_rel_freq = acqua['Oro'].value_counts(normalize=True, sort=False)\n",
    "gold_rel_freq"
   ]
  },
  {
   "cell_type": "code",
   "execution_count": 68,
   "id": "572c45c5",
   "metadata": {},
   "outputs": [
    {
     "data": {
      "text/html": [
       "<div>\n",
       "<style scoped>\n",
       "    .dataframe tbody tr th:only-of-type {\n",
       "        vertical-align: middle;\n",
       "    }\n",
       "\n",
       "    .dataframe tbody tr th {\n",
       "        vertical-align: top;\n",
       "    }\n",
       "\n",
       "    .dataframe thead th {\n",
       "        text-align: right;\n",
       "    }\n",
       "</style>\n",
       "<table border=\"1\" class=\"dataframe\">\n",
       "  <thead>\n",
       "    <tr style=\"text-align: right;\">\n",
       "      <th></th>\n",
       "      <th>Frequenza</th>\n",
       "    </tr>\n",
       "    <tr>\n",
       "      <th>Oro</th>\n",
       "      <th></th>\n",
       "    </tr>\n",
       "  </thead>\n",
       "  <tbody>\n",
       "    <tr>\n",
       "      <th>0</th>\n",
       "      <td>0.276364</td>\n",
       "    </tr>\n",
       "    <tr>\n",
       "      <th>1</th>\n",
       "      <td>0.296364</td>\n",
       "    </tr>\n",
       "    <tr>\n",
       "      <th>2</th>\n",
       "      <td>0.198788</td>\n",
       "    </tr>\n",
       "    <tr>\n",
       "      <th>3</th>\n",
       "      <td>0.086667</td>\n",
       "    </tr>\n",
       "    <tr>\n",
       "      <th>4</th>\n",
       "      <td>0.048485</td>\n",
       "    </tr>\n",
       "    <tr>\n",
       "      <th>5</th>\n",
       "      <td>0.038182</td>\n",
       "    </tr>\n",
       "    <tr>\n",
       "      <th>6</th>\n",
       "      <td>0.029091</td>\n",
       "    </tr>\n",
       "    <tr>\n",
       "      <th>7</th>\n",
       "      <td>0.012121</td>\n",
       "    </tr>\n",
       "    <tr>\n",
       "      <th>8</th>\n",
       "      <td>0.007273</td>\n",
       "    </tr>\n",
       "    <tr>\n",
       "      <th>9</th>\n",
       "      <td>0.002424</td>\n",
       "    </tr>\n",
       "    <tr>\n",
       "      <th>10</th>\n",
       "      <td>0.002424</td>\n",
       "    </tr>\n",
       "    <tr>\n",
       "      <th>11</th>\n",
       "      <td>0.001818</td>\n",
       "    </tr>\n",
       "  </tbody>\n",
       "</table>\n",
       "</div>"
      ],
      "text/plain": [
       "     Frequenza\n",
       "Oro           \n",
       "0     0.276364\n",
       "1     0.296364\n",
       "2     0.198788\n",
       "3     0.086667\n",
       "4     0.048485\n",
       "5     0.038182\n",
       "6     0.029091\n",
       "7     0.012121\n",
       "8     0.007273\n",
       "9     0.002424\n",
       "10    0.002424\n",
       "11    0.001818"
      ]
     },
     "execution_count": 68,
     "metadata": {},
     "output_type": "execute_result"
    }
   ],
   "source": [
    "# alternativa\n",
    "pd.crosstab(index=acqua['Oro'],\n",
    "            columns=['Frequenza'],\n",
    "            normalize=True,\n",
    "            colnames=[''])"
   ]
  },
  {
   "cell_type": "markdown",
   "id": "8b96c9b2",
   "metadata": {},
   "source": [
    "<h2>Punto 6</h2>"
   ]
  },
  {
   "cell_type": "code",
   "execution_count": 74,
   "id": "5702e894",
   "metadata": {},
   "outputs": [
    {
     "data": {
      "image/png": "[encoded data removed]",
      "text/plain": [
       "<Figure size 432x288 with 1 Axes>"
      ]
     },
     "metadata": {
      "needs_background": "light"
     },
     "output_type": "display_data"
    }
   ],
   "source": [
    "plt.vlines(gold_rel_freq.index, 0, gold_rel_freq.values)\n",
    "plt.show()"
   ]
  },
  {
   "cell_type": "markdown",
   "id": "b71f723f",
   "metadata": {},
   "source": [
    "<h2>Punto 7</h2>"
   ]
  },
  {
   "cell_type": "code",
   "execution_count": 75,
   "id": "a28fcd0a",
   "metadata": {},
   "outputs": [
    {
     "data": {
      "text/plain": [
       "(1.7224242424242424, 3.4025896319164968)"
      ]
     },
     "execution_count": 75,
     "metadata": {},
     "output_type": "execute_result"
    }
   ],
   "source": [
    "# media campionaria e varianza campionaria\n",
    "(acqua['Oro'].mean(), acqua['Oro'].var())"
   ]
  },
  {
   "cell_type": "code",
   "execution_count": 77,
   "id": "e25ab6a7",
   "metadata": {},
   "outputs": [
    {
     "data": {
      "text/plain": [
       "1.7224242424242424"
      ]
     },
     "execution_count": 77,
     "metadata": {},
     "output_type": "execute_result"
    }
   ],
   "source": [
    "# metodo alternativo per il calcolo della media\n",
    "\n",
    "totAcqua = 0\n",
    "for aS in acqua['Oro']:\n",
    "    totAcqua += aS\n",
    "\n",
    "totAcqua / len(acqua['Oro'])"
   ]
  },
  {
   "cell_type": "markdown",
   "id": "d70043ea",
   "metadata": {},
   "source": [
    "<h2>Punto 8</h2>"
   ]
  },
  {
   "cell_type": "code",
   "execution_count": 78,
   "id": "1a74aa14",
   "metadata": {},
   "outputs": [
    {
     "data": {
      "text/plain": [
       "1.7224242424242424"
      ]
     },
     "execution_count": 78,
     "metadata": {},
     "output_type": "execute_result"
    }
   ],
   "source": [
    "# calcolo della media campionaria, fatto già nel punto 7\n",
    "acqua['Oro'].mean()"
   ]
  },
  {
   "cell_type": "markdown",
   "id": "fc5a48db",
   "metadata": {},
   "source": [
    "<h2>Punto 9</h2>"
   ]
  },
  {
   "cell_type": "code",
   "execution_count": 82,
   "id": "aac90c11",
   "metadata": {},
   "outputs": [
    {
     "data": {
      "text/plain": [
       "0"
      ]
     },
     "execution_count": 82,
     "metadata": {},
     "output_type": "execute_result"
    }
   ],
   "source": [
    "# verifichiamo se ci sono valori mancanti\n",
    "sum(acqua['Oro'].isnull()) # soluzione con cast"
   ]
  },
  {
   "cell_type": "code",
   "execution_count": 83,
   "id": "066366d9",
   "metadata": {},
   "outputs": [
    {
     "data": {
      "text/plain": [
       "False"
      ]
     },
     "execution_count": 83,
     "metadata": {},
     "output_type": "execute_result"
    }
   ],
   "source": [
    "# soluzione alternativa con il metodo any() che restituisce true se esiste almeno una riga per cui l'attributo vale true\n",
    "acqua['Oro'].isnull().any()"
   ]
  },
  {
   "cell_type": "markdown",
   "id": "b7bedffa",
   "metadata": {},
   "source": [
    "<h1>Esercizio 3</h1>"
   ]
  },
  {
   "cell_type": "markdown",
   "id": "ffd964ea",
   "metadata": {},
   "source": [
    "<h2>Punto 1</h2>"
   ]
  },
  {
   "cell_type": "code",
   "execution_count": 86,
   "id": "25b7b253",
   "metadata": {},
   "outputs": [
    {
     "data": {
      "image/png": "[encoded data removed]",
      "text/plain": [
       "<Figure size 432x288 with 1 Axes>"
      ]
     },
     "metadata": {
      "needs_background": "light"
     },
     "output_type": "display_data"
    }
   ],
   "source": [
    "acqua['DurezzaAcqua'].plot.hist()\n",
    "plt.show()"
   ]
  },
  {
   "cell_type": "markdown",
   "id": "c94dd31c",
   "metadata": {},
   "source": [
    "<h2>Punto 2</h2>"
   ]
  },
  {
   "cell_type": "code",
   "execution_count": 90,
   "id": "dddd63f0",
   "metadata": {},
   "outputs": [
    {
     "data": {
      "image/png": "[encoded data removed]",
      "text/plain": [
       "<Figure size 432x288 with 1 Axes>"
      ]
     },
     "execution_count": 90,
     "metadata": {},
     "output_type": "execute_result"
    },
    {
     "data": {
      "image/png": "[encoded data removed]",
      "text/plain": [
       "<Figure size 432x288 with 1 Axes>"
      ]
     },
     "metadata": {
      "needs_background": "light"
     },
     "output_type": "display_data"
    }
   ],
   "source": [
    "import statsmodels.api as sm\n",
    "\n",
    "sm.qqplot(acqua['DurezzaAcqua'], fit=True, line='45')"
   ]
  },
  {
   "cell_type": "markdown",
   "id": "e01656b7",
   "metadata": {},
   "source": [
    "<h2>Punto 3</h2>"
   ]
  },
  {
   "cell_type": "code",
   "execution_count": 92,
   "id": "88b32569",
   "metadata": {},
   "outputs": [
    {
     "data": {
      "image/png": "[encoded data removed]",
      "text/plain": [
       "<Figure size 432x288 with 1 Axes>"
      ]
     },
     "metadata": {
      "needs_background": "light"
     },
     "output_type": "display_data"
    }
   ],
   "source": [
    "plt.scatter(acqua['Oro'], acqua['DurezzaAcqua'])\n",
    "plt.show()"
   ]
  },
  {
   "cell_type": "code",
   "execution_count": 95,
   "id": "f7f36f30",
   "metadata": {},
   "outputs": [
    {
     "data": {
      "text/plain": [
       "-0.842768630507854"
      ]
     },
     "execution_count": 95,
     "metadata": {},
     "output_type": "execute_result"
    }
   ],
   "source": [
    "acqua['Oro'].corr(acqua['DurezzaAcqua'])"
   ]
  },
  {
   "cell_type": "code",
   "execution_count": 100,
   "id": "491cfee5",
   "metadata": {},
   "outputs": [
    {
     "data": {
      "text/plain": [
       "-15610.134999397917"
      ]
     },
     "execution_count": 100,
     "metadata": {},
     "output_type": "execute_result"
    }
   ],
   "source": [
    "sum((acqua['Oro'] - acqua['Oro'].mean()) * (acqua['DurezzaAcqua'] - acqua['DurezzaAcqua'].mean()))\n",
    "# manca divisione per (n - 1) e dividere per prodotto delle devizioni standard campionarie"
   ]
  },
  {
   "cell_type": "markdown",
   "id": "1b958057",
   "metadata": {},
   "source": [
    "<h2>Punto 4</h2>"
   ]
  },
  {
   "cell_type": "markdown",
   "id": "057cd696",
   "metadata": {},
   "source": [
    "Il fatto che il coefficiente sia vicino a -1, conferma che tra i due attributi esista una relazione lineare di tipo inverso, di carattere abbastanza forte."
   ]
  },
  {
   "cell_type": "markdown",
   "id": "bc9c1d2d",
   "metadata": {},
   "source": [
    "<h2>Punto 5</h2>"
   ]
  },
  {
   "cell_type": "code",
   "execution_count": 101,
   "id": "3b0c72ef",
   "metadata": {},
   "outputs": [],
   "source": [
    "Z = st.norm()"
   ]
  },
  {
   "cell_type": "markdown",
   "id": "892eb403",
   "metadata": {},
   "source": [
    "<h2>Punto 6</h2>"
   ]
  },
  {
   "cell_type": "code",
   "execution_count": 108,
   "id": "3c42bac7",
   "metadata": {},
   "outputs": [
    {
     "data": {
      "text/html": [
       "<div>\n",
       "<style scoped>\n",
       "    .dataframe tbody tr th:only-of-type {\n",
       "        vertical-align: middle;\n",
       "    }\n",
       "\n",
       "    .dataframe tbody tr th {\n",
       "        vertical-align: top;\n",
       "    }\n",
       "\n",
       "    .dataframe thead th {\n",
       "        text-align: right;\n",
       "    }\n",
       "</style>\n",
       "<table border=\"1\" class=\"dataframe\">\n",
       "  <thead>\n",
       "    <tr style=\"text-align: right;\">\n",
       "      <th></th>\n",
       "      <th>Oro</th>\n",
       "      <th>DurezzaAcqua</th>\n",
       "    </tr>\n",
       "    <tr>\n",
       "      <th>NomeSorgente</th>\n",
       "      <th></th>\n",
       "      <th></th>\n",
       "    </tr>\n",
       "  </thead>\n",
       "  <tbody>\n",
       "    <tr>\n",
       "      <th>Sorgente1</th>\n",
       "      <td>0.970000</td>\n",
       "      <td>21.009675</td>\n",
       "    </tr>\n",
       "    <tr>\n",
       "      <th>Sorgente2</th>\n",
       "      <td>1.048000</td>\n",
       "      <td>20.836725</td>\n",
       "    </tr>\n",
       "    <tr>\n",
       "      <th>Sorgente3</th>\n",
       "      <td>1.120000</td>\n",
       "      <td>20.696062</td>\n",
       "    </tr>\n",
       "    <tr>\n",
       "      <th>Sorgente4</th>\n",
       "      <td>1.068000</td>\n",
       "      <td>20.917371</td>\n",
       "    </tr>\n",
       "    <tr>\n",
       "      <th>Sorgente5</th>\n",
       "      <td>4.228571</td>\n",
       "      <td>7.754144</td>\n",
       "    </tr>\n",
       "  </tbody>\n",
       "</table>\n",
       "</div>"
      ],
      "text/plain": [
       "                   Oro  DurezzaAcqua\n",
       "NomeSorgente                        \n",
       "Sorgente1     0.970000     21.009675\n",
       "Sorgente2     1.048000     20.836725\n",
       "Sorgente3     1.120000     20.696062\n",
       "Sorgente4     1.068000     20.917371\n",
       "Sorgente5     4.228571      7.754144"
      ]
     },
     "execution_count": 108,
     "metadata": {},
     "output_type": "execute_result"
    }
   ],
   "source": [
    "acqua.groupby('NomeSorgente').mean()"
   ]
  },
  {
   "cell_type": "markdown",
   "id": "9381d835",
   "metadata": {},
   "source": [
    "<h2>Punto 7</h2>"
   ]
  },
  {
   "cell_type": "code",
   "execution_count": 114,
   "id": "7146ebd3",
   "metadata": {},
   "outputs": [],
   "source": [
    "sorgente_5 = acqua[acqua['NomeSorgente'] == 'Sorgente5'].loc[:, ['Oro', 'DurezzaAcqua']]"
   ]
  },
  {
   "cell_type": "code",
   "execution_count": 115,
   "id": "86515d38",
   "metadata": {},
   "outputs": [],
   "source": [
    "altre_sorgenti = acqua[acqua['NomeSorgente'] != 'Sorgente5'].loc[:, ['Oro', 'DurezzaAcqua']]"
   ]
  },
  {
   "cell_type": "markdown",
   "id": "5758033f",
   "metadata": {},
   "source": [
    "<h2>Punto 8</h2>"
   ]
  },
  {
   "cell_type": "code",
   "execution_count": 119,
   "id": "55de8cdf",
   "metadata": {},
   "outputs": [],
   "source": [
    "num_particelle_5 = sorgente_5['Oro'].mean()"
   ]
  },
  {
   "cell_type": "code",
   "execution_count": 120,
   "id": "72e23f55",
   "metadata": {},
   "outputs": [],
   "source": [
    "num_altre_sorgenti = altre_sorgenti['Oro'].mean()"
   ]
  },
  {
   "cell_type": "code",
   "execution_count": 122,
   "id": "7b58ddc0",
   "metadata": {},
   "outputs": [
    {
     "data": {
      "text/plain": [
       "(4.228571428571429, 1.0476923076923077)"
      ]
     },
     "execution_count": 122,
     "metadata": {},
     "output_type": "execute_result"
    }
   ],
   "source": [
    "(num_particelle_5, num_altre_sorgenti)"
   ]
  },
  {
   "cell_type": "markdown",
   "id": "3696505b",
   "metadata": {},
   "source": [
    "<h2>Punto 9</h2>"
   ]
  },
  {
   "cell_type": "code",
   "execution_count": 126,
   "id": "6572f0fd",
   "metadata": {},
   "outputs": [
    {
     "data": {
      "image/png": "[encoded data removed]",
      "text/plain": [
       "<Figure size 432x288 with 1 Axes>"
      ]
     },
     "metadata": {
      "needs_background": "light"
     },
     "output_type": "display_data"
    }
   ],
   "source": [
    "s5_rel_freq = sorgente_5['Oro'].value_counts(normalize=True, sort=False)\n",
    "plt.vlines(s5_rel_freq.index, 0, s5_rel_freq.values)\n",
    "plt.plot(s5_rel_freq.index, s5_rel_freq.values, 'o')\n",
    "plt.show()"
   ]
  },
  {
   "cell_type": "code",
   "execution_count": 128,
   "id": "e65907c7",
   "metadata": {},
   "outputs": [
    {
     "data": {
      "text/plain": [
       "(4.228571428571429, 4.38886614817847)"
      ]
     },
     "execution_count": 128,
     "metadata": {},
     "output_type": "execute_result"
    }
   ],
   "source": [
    "(sorgente_5['Oro'].mean(), sorgente_5['Oro'].var())"
   ]
  },
  {
   "cell_type": "markdown",
   "id": "25446365",
   "metadata": {},
   "source": [
    "<h2>Punto 10</h2>"
   ]
  },
  {
   "cell_type": "code",
   "execution_count": 129,
   "id": "367cc283",
   "metadata": {},
   "outputs": [
    {
     "data": {
      "image/png": "[encoded data removed]",
      "text/plain": [
       "<Figure size 432x288 with 1 Axes>"
      ]
     },
     "metadata": {
      "needs_background": "light"
     },
     "output_type": "display_data"
    }
   ],
   "source": [
    "aS_rel_freq = altre_sorgenti['Oro'].value_counts(normalize=True, sort=False)\n",
    "plt.vlines(aS_rel_freq.index, 0, aS_rel_freq.values)\n",
    "plt.plot(aS_rel_freq.index, aS_rel_freq.values, 'o')\n",
    "plt.show()"
   ]
  },
  {
   "cell_type": "code",
   "execution_count": 130,
   "id": "066b21af",
   "metadata": {},
   "outputs": [
    {
     "data": {
      "text/plain": [
       "(1.0476923076923077, 0.9923349321963642)"
      ]
     },
     "execution_count": 130,
     "metadata": {},
     "output_type": "execute_result"
    }
   ],
   "source": [
    "(altre_sorgenti['Oro'].mean(), altre_sorgenti['Oro'].var())"
   ]
  },
  {
   "cell_type": "markdown",
   "id": "123db842",
   "metadata": {},
   "source": [
    "<h2>Punto 11</h2>"
   ]
  },
  {
   "cell_type": "code",
   "execution_count": 132,
   "id": "39e9302d",
   "metadata": {},
   "outputs": [
    {
     "data": {
      "text/plain": [
       "0.8457142857142858"
      ]
     },
     "execution_count": 132,
     "metadata": {},
     "output_type": "execute_result"
    }
   ],
   "source": [
    "l_5 = sorgente_5['Oro'].mean() / 5\n",
    "l_5"
   ]
  },
  {
   "cell_type": "code",
   "execution_count": 133,
   "id": "b05240e3",
   "metadata": {},
   "outputs": [],
   "source": [
    "T_5 = st.expon(scale=1/l_5)"
   ]
  },
  {
   "cell_type": "code",
   "execution_count": 135,
   "id": "41bbb023",
   "metadata": {},
   "outputs": [
    {
     "data": {
      "text/plain": [
       "0.00021237799893225606"
      ]
     },
     "execution_count": 135,
     "metadata": {},
     "output_type": "execute_result"
    }
   ],
   "source": [
    "1 - T_5.cdf(10)"
   ]
  },
  {
   "cell_type": "markdown",
   "id": "f60b199b",
   "metadata": {},
   "source": [
    "<h2>Punto 12</h2>"
   ]
  },
  {
   "cell_type": "markdown",
   "id": "caf4ecfd",
   "metadata": {},
   "source": [
    "Per <b>assenza di memoria</b>, la probabilità richieste è uguale alla probabilità calcolata nel punto 11."
   ]
  },
  {
   "cell_type": "markdown",
   "id": "50319e23",
   "metadata": {},
   "source": [
    "<h2>Punto 13</h2>"
   ]
  },
  {
   "cell_type": "code",
   "execution_count": 139,
   "id": "5271a33b",
   "metadata": {},
   "outputs": [
    {
     "data": {
      "image/png": "[encoded data removed]",
      "text/plain": [
       "<Figure size 432x288 with 1 Axes>"
      ]
     },
     "metadata": {
      "needs_background": "light"
     },
     "output_type": "display_data"
    }
   ],
   "source": [
    "ts = np.linspace(0, 10, 100)\n",
    "\n",
    "plt.plot(ts, T_5.cdf(ts))\n",
    "plt.show()"
   ]
  },
  {
   "cell_type": "code",
   "execution_count": 141,
   "id": "24123710",
   "metadata": {},
   "outputs": [
    {
     "data": {
      "image/png": "[encoded data removed]",
      "text/plain": [
       "<Figure size 432x288 with 1 Axes>"
      ]
     },
     "metadata": {
      "needs_background": "light"
     },
     "output_type": "display_data"
    }
   ],
   "source": [
    "l_altre = altre_sorgenti['Oro'].mean() / 5\n",
    "T_altre = st.expon(scale=1/l_altre)\n",
    "\n",
    "ts = np.arange(0, 20, .1)\n",
    "plt.plot(ts, T_altre.cdf(ts))\n",
    "plt.show()"
   ]
  },
  {
   "cell_type": "code",
   "execution_count": 145,
   "id": "ccd4a754",
   "metadata": {},
   "outputs": [
    {
     "data": {
      "image/png": "[encoded data removed]",
      "text/plain": [
       "<Figure size 432x288 with 1 Axes>"
      ]
     },
     "metadata": {
      "needs_background": "light"
     },
     "output_type": "display_data"
    }
   ],
   "source": [
    "ts = np.arange(0, 20, .1)\n",
    "\n",
    "plt.plot(ts, T_5.cdf(ts), label='Sorgente 5')\n",
    "\n",
    "l_altre = altre_sorgenti['Oro'].mean() / 5\n",
    "T_altre = st.expon(scale=1/l_altre)\n",
    "\n",
    "\n",
    "plt.plot(ts, T_altre.cdf(ts), label='Altre sorgenti')\n",
    "plt.legend()\n",
    "plt.show()"
   ]
  },
  {
   "cell_type": "markdown",
   "id": "459f9292",
   "metadata": {},
   "source": [
    "<h1>Esercizio 4</h1>"
   ]
  },
  {
   "cell_type": "markdown",
   "id": "e2e693c8",
   "metadata": {},
   "source": [
    "<h2>Punto 1</h2>"
   ]
  },
  {
   "cell_type": "code",
   "execution_count": 149,
   "id": "f6a307fc",
   "metadata": {},
   "outputs": [
    {
     "data": {
      "text/plain": [
       "350"
      ]
     },
     "execution_count": 149,
     "metadata": {},
     "output_type": "execute_result"
    }
   ],
   "source": [
    "sigma_x = sorgente_5['Oro'].std()\n",
    "eps = 0.1\n",
    "n = len(sorgente_5)\n",
    "n"
   ]
  },
  {
   "cell_type": "code",
   "execution_count": 152,
   "id": "bd727df9",
   "metadata": {},
   "outputs": [
    {
     "data": {
      "text/plain": [
       "0.6281498695096628"
      ]
     },
     "execution_count": 152,
     "metadata": {},
     "output_type": "execute_result"
    }
   ],
   "source": [
    "Z = st.norm()\n",
    "2 * Z.cdf(eps / (sigma_x / n ** 0.5)) - 1"
   ]
  },
  {
   "cell_type": "markdown",
   "id": "d8f020c3",
   "metadata": {},
   "source": [
    "<h2>Punto 2</h2>"
   ]
  },
  {
   "cell_type": "code",
   "execution_count": 156,
   "id": "6e44b6f4",
   "metadata": {},
   "outputs": [
    {
     "data": {
      "text/plain": [
       "1188"
      ]
     },
     "execution_count": 156,
     "metadata": {},
     "output_type": "execute_result"
    }
   ],
   "source": [
    "n_min = math.ceil((sigma_x / eps * Z.ppf(0.95)) ** 2)\n",
    "n_min"
   ]
  },
  {
   "cell_type": "code",
   "execution_count": 157,
   "id": "eb521e60",
   "metadata": {},
   "outputs": [
    {
     "data": {
      "text/plain": [
       "838"
      ]
     },
     "execution_count": 157,
     "metadata": {},
     "output_type": "execute_result"
    }
   ],
   "source": [
    "n_min - n # 'pacchetti' da 5 litri da analizzare"
   ]
  },
  {
   "cell_type": "code",
   "execution_count": 158,
   "id": "ff3d7869",
   "metadata": {},
   "outputs": [
    {
     "data": {
      "text/plain": [
       "4190"
      ]
     },
     "execution_count": 158,
     "metadata": {},
     "output_type": "execute_result"
    }
   ],
   "source": [
    "5 * (n_min - n) # litri da analizzare"
   ]
  },
  {
   "cell_type": "markdown",
   "id": "efa4daf6",
   "metadata": {},
   "source": [
    "<h2>Punto 3</h2>"
   ]
  },
  {
   "cell_type": "code",
   "execution_count": 159,
   "id": "88c82437",
   "metadata": {},
   "outputs": [
    {
     "data": {
      "text/plain": [
       "268.57142857142867"
      ]
     },
     "execution_count": 159,
     "metadata": {},
     "output_type": "execute_result"
    }
   ],
   "source": [
    "100 * (3 * num_particelle_5 - 10)"
   ]
  },
  {
   "cell_type": "code",
   "execution_count": 161,
   "id": "8e95035b",
   "metadata": {},
   "outputs": [
    {
     "data": {
      "text/plain": [
       "1902.857142857143"
      ]
     },
     "execution_count": 161,
     "metadata": {},
     "output_type": "execute_result"
    }
   ],
   "source": [
    "var_g = 1.5 ** 2 * 200 * num_particelle_5\n",
    "var_g"
   ]
  },
  {
   "cell_type": "code",
   "execution_count": 162,
   "id": "b4294b4d",
   "metadata": {},
   "outputs": [
    {
     "data": {
      "text/plain": [
       "43.62175079999819"
      ]
     },
     "execution_count": 162,
     "metadata": {},
     "output_type": "execute_result"
    }
   ],
   "source": [
    "var_g ** 0.5"
   ]
  }
 ],
 "metadata": {
  "kernelspec": {
   "display_name": "Python 3 (ipykernel)",
   "language": "python",
   "name": "python3"
  },
  "language_info": {
   "codemirror_mode": {
    "name": "ipython",
    "version": 3
   },
   "file_extension": ".py",
   "mimetype": "text/x-python",
   "name": "python",
   "nbconvert_exporter": "python",
   "pygments_lexer": "ipython3",
   "version": "3.9.7"
  }
 },
 "nbformat": 4,
 "nbformat_minor": 5
}
